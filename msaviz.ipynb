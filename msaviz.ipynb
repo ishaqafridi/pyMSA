{
  "nbformat": 4,
  "nbformat_minor": 0,
  "metadata": {
    "colab": {
      "provenance": [],
      "gpuType": "T4",
      "authorship_tag": "ABX9TyP2+ch1Ys1hwuKJ2dpbixeW",
      "include_colab_link": true
    },
    "kernelspec": {
      "name": "python3",
      "display_name": "Python 3"
    },
    "language_info": {
      "name": "python"
    },
    "accelerator": "GPU"
  },
  "cells": [
    {
      "cell_type": "markdown",
      "metadata": {
        "id": "view-in-github",
        "colab_type": "text"
      },
      "source": [
        "<a href=\"https://colab.research.google.com/github/ishaqafridi/pyMSA/blob/master/msaviz.ipynb\" target=\"_parent\"><img src=\"https://colab.research.google.com/assets/colab-badge.svg\" alt=\"Open In Colab\"/></a>"
      ]
    },
    {
      "cell_type": "code",
      "source": [
        "pip install Bio"
      ],
      "metadata": {
        "colab": {
          "base_uri": "https://localhost:8080/"
        },
        "id": "fgF7ChVXZ8d_",
        "outputId": "8daa35ff-7c72-444c-b788-d017dba4a2d2"
      },
      "execution_count": 5,
      "outputs": [
        {
          "output_type": "stream",
          "name": "stdout",
          "text": [
            "Collecting Bio\n",
            "  Using cached bio-1.7.1-py3-none-any.whl (280 kB)\n",
            "Collecting biopython>=1.80 (from Bio)\n",
            "  Downloading biopython-1.83-cp310-cp310-manylinux_2_17_x86_64.manylinux2014_x86_64.whl (3.1 MB)\n",
            "\u001b[2K     \u001b[90m━━━━━━━━━━━━━━━━━━━━━━━━━━━━━━━━━━━━━━━━\u001b[0m \u001b[32m3.1/3.1 MB\u001b[0m \u001b[31m14.6 MB/s\u001b[0m eta \u001b[36m0:00:00\u001b[0m\n",
            "\u001b[?25hCollecting gprofiler-official (from Bio)\n",
            "  Downloading gprofiler_official-1.0.0-py3-none-any.whl (9.3 kB)\n",
            "Collecting mygene (from Bio)\n",
            "  Downloading mygene-3.2.2-py2.py3-none-any.whl (5.4 kB)\n",
            "Requirement already satisfied: pandas in /usr/local/lib/python3.10/dist-packages (from Bio) (2.0.3)\n",
            "Requirement already satisfied: pooch in /usr/local/lib/python3.10/dist-packages (from Bio) (1.8.1)\n",
            "Requirement already satisfied: requests in /usr/local/lib/python3.10/dist-packages (from Bio) (2.31.0)\n",
            "Requirement already satisfied: tqdm in /usr/local/lib/python3.10/dist-packages (from Bio) (4.66.4)\n",
            "Requirement already satisfied: numpy in /usr/local/lib/python3.10/dist-packages (from biopython>=1.80->Bio) (1.25.2)\n",
            "Collecting biothings-client>=0.2.6 (from mygene->Bio)\n",
            "  Downloading biothings_client-0.3.1-py2.py3-none-any.whl (29 kB)\n",
            "Requirement already satisfied: python-dateutil>=2.8.2 in /usr/local/lib/python3.10/dist-packages (from pandas->Bio) (2.8.2)\n",
            "Requirement already satisfied: pytz>=2020.1 in /usr/local/lib/python3.10/dist-packages (from pandas->Bio) (2023.4)\n",
            "Requirement already satisfied: tzdata>=2022.1 in /usr/local/lib/python3.10/dist-packages (from pandas->Bio) (2024.1)\n",
            "Requirement already satisfied: platformdirs>=2.5.0 in /usr/local/lib/python3.10/dist-packages (from pooch->Bio) (4.2.2)\n",
            "Requirement already satisfied: packaging>=20.0 in /usr/local/lib/python3.10/dist-packages (from pooch->Bio) (24.0)\n",
            "Requirement already satisfied: charset-normalizer<4,>=2 in /usr/local/lib/python3.10/dist-packages (from requests->Bio) (3.3.2)\n",
            "Requirement already satisfied: idna<4,>=2.5 in /usr/local/lib/python3.10/dist-packages (from requests->Bio) (3.7)\n",
            "Requirement already satisfied: urllib3<3,>=1.21.1 in /usr/local/lib/python3.10/dist-packages (from requests->Bio) (2.0.7)\n",
            "Requirement already satisfied: certifi>=2017.4.17 in /usr/local/lib/python3.10/dist-packages (from requests->Bio) (2024.6.2)\n",
            "Requirement already satisfied: six>=1.5 in /usr/local/lib/python3.10/dist-packages (from python-dateutil>=2.8.2->pandas->Bio) (1.16.0)\n",
            "Installing collected packages: biopython, gprofiler-official, biothings-client, mygene, Bio\n",
            "Successfully installed Bio-1.7.1 biopython-1.83 biothings-client-0.3.1 gprofiler-official-1.0.0 mygene-3.2.2\n"
          ]
        }
      ]
    },
    {
      "cell_type": "code",
      "source": [
        "from Bio import Entrez"
      ],
      "metadata": {
        "id": "90iI3SvmaT5O"
      },
      "execution_count": 6,
      "outputs": []
    },
    {
      "cell_type": "code",
      "source": [
        "sequence=Entrez.efetch(db='nucleotide',id='M28276.1',rettype='fasta')"
      ],
      "metadata": {
        "colab": {
          "base_uri": "https://localhost:8080/"
        },
        "id": "m3OasvM2wJoC",
        "outputId": "9418ced3-0f5f-4990-e0b3-200e675e10a7"
      },
      "execution_count": 12,
      "outputs": [
        {
          "output_type": "stream",
          "name": "stderr",
          "text": [
            "/usr/local/lib/python3.10/dist-packages/Bio/Entrez/__init__.py:723: UserWarning: \n",
            "            Email address is not specified.\n",
            "\n",
            "            To make use of NCBI's E-utilities, NCBI requires you to specify your\n",
            "            email address with each request.  As an example, if your email address\n",
            "            is A.N.Other@example.com, you can specify it as follows:\n",
            "               from Bio import Entrez\n",
            "               Entrez.email = 'A.N.Other@example.com'\n",
            "            In case of excessive usage of the E-utilities, NCBI will attempt to contact\n",
            "            a user at the email address provided before blocking access to the\n",
            "            E-utilities.\n",
            "  warnings.warn(\n"
          ]
        }
      ]
    },
    {
      "cell_type": "code",
      "source": [
        "sequence.read()"
      ],
      "metadata": {
        "colab": {
          "base_uri": "https://localhost:8080/",
          "height": 89
        },
        "id": "v7jYpghzw4Qz",
        "outputId": "70110c99-cd28-4ead-ddeb-1ebcc3d13ed9"
      },
      "execution_count": 14,
      "outputs": [
        {
          "output_type": "execute_result",
          "data": {
            "text/plain": [
              "'>M28276.1 Frog albumin mRNA, partial cds\\nCACTGCTGTGCCGTACCTGAAAATCAAAGGATGCCATGTGCAGAAGGAGACCTTACCATTCTCATTGGAA\\nAAATGTGTGAAAGGCAAAAGAAGACATTTATAAATAACCACGTTGCTCATTGCTGCACTGACTTATATTC\\nTGGGATGCGTTCATGCTTTACTGCTCTTGGTCCAGATGAGGACTATGTACCACCCCCAGTTACTGATGAC\\nACATTTGACTTTGACGACAAGATATGCACTGCTAATGATAAAGAAAAACAGCATATCAAACAGAAATTCC\\nTTGTGAAGCTGATTAAA\\n\\n'"
            ],
            "application/vnd.google.colaboratory.intrinsic+json": {
              "type": "string"
            }
          },
          "metadata": {},
          "execution_count": 14
        }
      ]
    },
    {
      "cell_type": "code",
      "source": [
        "reference_sequence=Entrez.efetch(db='nucleotide',id='LN854577.1',rettype='fasta')"
      ],
      "metadata": {
        "colab": {
          "base_uri": "https://localhost:8080/"
        },
        "id": "Qe9cGkKtxuQb",
        "outputId": "89b0099c-6d25-4752-fa8b-1057c48fa889"
      },
      "execution_count": 15,
      "outputs": [
        {
          "output_type": "stream",
          "name": "stderr",
          "text": [
            "/usr/local/lib/python3.10/dist-packages/Bio/Entrez/__init__.py:723: UserWarning: \n",
            "            Email address is not specified.\n",
            "\n",
            "            To make use of NCBI's E-utilities, NCBI requires you to specify your\n",
            "            email address with each request.  As an example, if your email address\n",
            "            is A.N.Other@example.com, you can specify it as follows:\n",
            "               from Bio import Entrez\n",
            "               Entrez.email = 'A.N.Other@example.com'\n",
            "            In case of excessive usage of the E-utilities, NCBI will attempt to contact\n",
            "            a user at the email address provided before blocking access to the\n",
            "            E-utilities.\n",
            "  warnings.warn(\n"
          ]
        }
      ]
    },
    {
      "cell_type": "code",
      "source": [
        "reference_sequence.read()"
      ],
      "metadata": {
        "colab": {
          "base_uri": "https://localhost:8080/",
          "height": 89
        },
        "id": "X2udySnYyDUC",
        "outputId": "4743e985-750c-46df-ee9d-d6d3fe2d56c9"
      },
      "execution_count": 16,
      "outputs": [
        {
          "output_type": "execute_result",
          "data": {
            "text/plain": [
              "'>LN854577.1 Sophora japonica partial pa1 gene for albumin 1 insecticidal protein\\nTTGGCTCTTTTCTTGCTTGCCACATTCTTAATGTTCCCGACGAAGAAGGCAGAAGCAGCAGATTGTTCGG\\nGTGCTTGTTCGCCATTTGAGATGCCACCATGCCGCTCTACCGACTGTCGCTGTATCCCCATTGTACTAGT\\nTGGGGGTTTCTGTATATATCCAACTGGAACTGCATCTGTTATGAAGATAGTCGAGCAACATCCTAACTTA\\nTGTGAGTCTCATGATGACTGCATGAAGAAGGGAAGTGGGAACTTCTGCGCTCCTTATTCTAATCCTTATA\\nTCGATCACGGCTGGTGCTTA\\n\\n'"
            ],
            "application/vnd.google.colaboratory.intrinsic+json": {
              "type": "string"
            }
          },
          "metadata": {},
          "execution_count": 16
        }
      ]
    },
    {
      "cell_type": "code",
      "source": [
        "sequences=Entrez.efetch(db='nucleotide',id='LF853823.1,LF853819.1,HZ156110.1',rettype='fasta')"
      ],
      "metadata": {
        "colab": {
          "base_uri": "https://localhost:8080/"
        },
        "id": "Mw0Zm2VyyJ9N",
        "outputId": "ff65d03b-d42a-434e-d9f4-8ad1286610c3"
      },
      "execution_count": 52,
      "outputs": [
        {
          "output_type": "stream",
          "name": "stderr",
          "text": [
            "/usr/local/lib/python3.10/dist-packages/Bio/Entrez/__init__.py:723: UserWarning: \n",
            "            Email address is not specified.\n",
            "\n",
            "            To make use of NCBI's E-utilities, NCBI requires you to specify your\n",
            "            email address with each request.  As an example, if your email address\n",
            "            is A.N.Other@example.com, you can specify it as follows:\n",
            "               from Bio import Entrez\n",
            "               Entrez.email = 'A.N.Other@example.com'\n",
            "            In case of excessive usage of the E-utilities, NCBI will attempt to contact\n",
            "            a user at the email address provided before blocking access to the\n",
            "            E-utilities.\n",
            "  warnings.warn(\n"
          ]
        }
      ]
    },
    {
      "cell_type": "code",
      "source": [
        "sequences.read()"
      ],
      "metadata": {
        "colab": {
          "base_uri": "https://localhost:8080/",
          "height": 178
        },
        "id": "uTsS_H_RypTd",
        "outputId": "927c21f8-79b4-466c-e848-548f6622f06b"
      },
      "execution_count": 18,
      "outputs": [
        {
          "output_type": "execute_result",
          "data": {
            "text/plain": [
              "'>LF853823.1 JP 2015126746-A/172: Albumin Fusion Proteins\\nATGTGCTGTACCAAGAGTTTGCTCCTGGCTGCTTTGATGTCAGTGCTGCTACTCCACCTCTGCGGCGAAT\\nCAGAAGCAGCAAGCAACTTTGACTGCTGTCTTGGATACACAGACCGTATTCTTCATCCTAAATTTATTGT\\nGGGCTTGACACGGCAGCTGGCCAATGAAGGCTGTGACATCAATGCTATCATCTTTCACACAAAGAAAAAG\\nTTGTCTGTGTGCGCAAATCCAAAACAGACTTGGGTGAAATATATTGTGCGTCTCCTCAGTAAAAAAGTCA\\nAGAACATGTAA\\n\\n>LF853819.1 JP 2015126746-A/168: Albumin Fusion Proteins\\nATGTGCTGTACCAAGAGTTTGCTCCTGGCTGCTTTGATGTCAGTGCTGCTACTCCACCTCTGCGGCGAAT\\nCAGAAGCAGCAAGCAACTTTGACTGCTGTCTTGGATACACAGACCGTATTCTTCATCCTAAATTTATTGT\\nGGGCTTGACACGGCAGCTGGCCAATGAAGGCTGTGACATCAATGCTATCATCTTTCACACAAAGAAAAAG\\nTTGTCTGTGTGCGCAAATCCAAAACAGACTTGGGTGAAATATATTGTGCGTCTCCTCAGTAAAAAAGTCA\\nAGAACATGTAA\\n\\n>HZ156110.1 JP 2015120714-A/167: Albumin Fusion Proteins\\nATGTGCTGTACCAAGAGTTTGCTCCTGGCTGCTTTGATGTCAGTGCTGCTACTCCACCTCTGCGGCGAAT\\nCAGAAGCAGCAAGCAACTTTGACTGCTGTCTTGGATACACAGACCGTATTCTTCATCCTAAATTTATTGT\\nGGGCTTCACACGGCAGCTGGCCAATGAAGGCTGTGACATCAATGCTATCATCTTTCACACAAAGAAAAAG\\nTTGTCTGTGTGCGCAAATCCAAAACAGACTTGGGTGAAATATATTGTGCGTCTCCTCAGTAAAAAAGTCA\\nAGAACATGTAA\\n\\n'"
            ],
            "application/vnd.google.colaboratory.intrinsic+json": {
              "type": "string"
            }
          },
          "metadata": {},
          "execution_count": 18
        }
      ]
    },
    {
      "cell_type": "code",
      "source": [
        "# prompt: multiple alignment of sequences with different length\n",
        "\n",
        "from Bio.Align import MultipleSeqAlignment\n",
        "from Bio.Align import substitution_matrices\n",
        "import numpy as np\n",
        "from Bio import pairwise2\n",
        "from Bio.Align import substitution_matrices\n",
        "matrix = substitution_matrices.load(\"BLOSUM62\")\n",
        "blosum62 = np.asarray(matrix)\n",
        "def convert_sequence_to_matrix(sequence, reference_sequence):\n",
        "    seq_matrix = np.zeros((len(sequence), len(reference_sequence)))\n",
        "    for i in range(len(sequence)):\n",
        "        for j in range(len(reference_sequence)):\n",
        "            seq_matrix[i, j] = blosum62[ord(sequence[i]) - ord('A'), ord(reference_sequence[j]) - ord('A')]\n",
        "    return seq_matrix\n",
        "def align_sequences(sequences):\n",
        "    reference_sequence = max(sequences, key=len)\n",
        "    for sequence in sequences:\n",
        "        seq_matrix = convert_sequence_to_matrix(sequence, reference_sequence)\n",
        "        print(seq_matrix)\n",
        "        print(reference_sequence)\n",
        "        alignments = pairwise2.align.localxx(seq_matrix, reference_sequence)\n",
        "        for alignment in alignments:\n",
        "            print(alignment)\n",
        "# sequences = [\"ACGT\", \"ACGTACGT\", \"ACGTACGTACGT\"]\n",
        "align_sequences(sequences)\n"
      ],
      "metadata": {
        "colab": {
          "base_uri": "https://localhost:8080/",
          "height": 454
        },
        "id": "spmIE36carLJ",
        "outputId": "0d0b0893-d091-4bc7-913e-79925d6d7ab6"
      },
      "execution_count": 22,
      "outputs": [
        {
          "output_type": "stream",
          "name": "stdout",
          "text": [
            "[[ 4. -2. -1.  0.  4. -2. -1.  0.  4. -2. -1.  0.]\n",
            " [-2.  6.  0. -3. -2.  6.  0. -3. -2.  6.  0. -3.]\n",
            " [-1.  0.  5. -2. -1.  0.  5. -2. -1.  0.  5. -2.]\n",
            " [ 0. -3. -2.  4.  0. -3. -2.  4.  0. -3. -2.  4.]]\n",
            "ACGTACGTACGT\n"
          ]
        },
        {
          "output_type": "error",
          "ename": "ValueError",
          "evalue": "The truth value of an array with more than one element is ambiguous. Use a.any() or a.all()",
          "traceback": [
            "\u001b[0;31m---------------------------------------------------------------------------\u001b[0m",
            "\u001b[0;31mValueError\u001b[0m                                Traceback (most recent call last)",
            "\u001b[0;32m<ipython-input-22-1cf8630dc3c3>\u001b[0m in \u001b[0;36m<cell line: 26>\u001b[0;34m()\u001b[0m\n\u001b[1;32m     24\u001b[0m             \u001b[0mprint\u001b[0m\u001b[0;34m(\u001b[0m\u001b[0malignment\u001b[0m\u001b[0;34m)\u001b[0m\u001b[0;34m\u001b[0m\u001b[0;34m\u001b[0m\u001b[0m\n\u001b[1;32m     25\u001b[0m \u001b[0;31m# sequences = [\"ACGT\", \"ACGTACGT\", \"ACGTACGTACGT\"]\u001b[0m\u001b[0;34m\u001b[0m\u001b[0;34m\u001b[0m\u001b[0m\n\u001b[0;32m---> 26\u001b[0;31m \u001b[0malign_sequences\u001b[0m\u001b[0;34m(\u001b[0m\u001b[0msequences\u001b[0m\u001b[0;34m)\u001b[0m\u001b[0;34m\u001b[0m\u001b[0;34m\u001b[0m\u001b[0m\n\u001b[0m",
            "\u001b[0;32m<ipython-input-22-1cf8630dc3c3>\u001b[0m in \u001b[0;36malign_sequences\u001b[0;34m(sequences)\u001b[0m\n\u001b[1;32m     20\u001b[0m         \u001b[0mprint\u001b[0m\u001b[0;34m(\u001b[0m\u001b[0mseq_matrix\u001b[0m\u001b[0;34m)\u001b[0m\u001b[0;34m\u001b[0m\u001b[0;34m\u001b[0m\u001b[0m\n\u001b[1;32m     21\u001b[0m         \u001b[0mprint\u001b[0m\u001b[0;34m(\u001b[0m\u001b[0mreference_sequence\u001b[0m\u001b[0;34m)\u001b[0m\u001b[0;34m\u001b[0m\u001b[0;34m\u001b[0m\u001b[0m\n\u001b[0;32m---> 22\u001b[0;31m         \u001b[0malignments\u001b[0m \u001b[0;34m=\u001b[0m \u001b[0mpairwise2\u001b[0m\u001b[0;34m.\u001b[0m\u001b[0malign\u001b[0m\u001b[0;34m.\u001b[0m\u001b[0mlocalxx\u001b[0m\u001b[0;34m(\u001b[0m\u001b[0mseq_matrix\u001b[0m\u001b[0;34m,\u001b[0m \u001b[0mreference_sequence\u001b[0m\u001b[0;34m)\u001b[0m\u001b[0;34m\u001b[0m\u001b[0;34m\u001b[0m\u001b[0m\n\u001b[0m\u001b[1;32m     23\u001b[0m         \u001b[0;32mfor\u001b[0m \u001b[0malignment\u001b[0m \u001b[0;32min\u001b[0m \u001b[0malignments\u001b[0m\u001b[0;34m:\u001b[0m\u001b[0;34m\u001b[0m\u001b[0;34m\u001b[0m\u001b[0m\n\u001b[1;32m     24\u001b[0m             \u001b[0mprint\u001b[0m\u001b[0;34m(\u001b[0m\u001b[0malignment\u001b[0m\u001b[0;34m)\u001b[0m\u001b[0;34m\u001b[0m\u001b[0;34m\u001b[0m\u001b[0m\n",
            "\u001b[0;32m/usr/local/lib/python3.10/dist-packages/Bio/pairwise2.py\u001b[0m in \u001b[0;36m__call__\u001b[0;34m(self, *args, **keywds)\u001b[0m\n\u001b[1;32m    500\u001b[0m             \u001b[0;34m\"\"\"Call the alignment instance already created.\"\"\"\u001b[0m\u001b[0;34m\u001b[0m\u001b[0;34m\u001b[0m\u001b[0m\n\u001b[1;32m    501\u001b[0m             \u001b[0mkeywds\u001b[0m \u001b[0;34m=\u001b[0m \u001b[0mself\u001b[0m\u001b[0;34m.\u001b[0m\u001b[0mdecode\u001b[0m\u001b[0;34m(\u001b[0m\u001b[0;34m*\u001b[0m\u001b[0margs\u001b[0m\u001b[0;34m,\u001b[0m \u001b[0;34m**\u001b[0m\u001b[0mkeywds\u001b[0m\u001b[0;34m)\u001b[0m\u001b[0;34m\u001b[0m\u001b[0;34m\u001b[0m\u001b[0m\n\u001b[0;32m--> 502\u001b[0;31m             \u001b[0;32mreturn\u001b[0m \u001b[0m_align\u001b[0m\u001b[0;34m(\u001b[0m\u001b[0;34m**\u001b[0m\u001b[0mkeywds\u001b[0m\u001b[0;34m)\u001b[0m\u001b[0;34m\u001b[0m\u001b[0;34m\u001b[0m\u001b[0m\n\u001b[0m\u001b[1;32m    503\u001b[0m \u001b[0;34m\u001b[0m\u001b[0m\n\u001b[1;32m    504\u001b[0m     \u001b[0;32mdef\u001b[0m \u001b[0m__getattr__\u001b[0m\u001b[0;34m(\u001b[0m\u001b[0mself\u001b[0m\u001b[0;34m,\u001b[0m \u001b[0mattr\u001b[0m\u001b[0;34m)\u001b[0m\u001b[0;34m:\u001b[0m\u001b[0;34m\u001b[0m\u001b[0;34m\u001b[0m\u001b[0m\n",
            "\u001b[0;32m/usr/local/lib/python3.10/dist-packages/Bio/pairwise2.py\u001b[0m in \u001b[0;36m_align\u001b[0;34m(sequenceA, sequenceB, match_fn, gap_A_fn, gap_B_fn, penalize_extend_when_opening, penalize_end_gaps, align_globally, gap_char, force_generic, score_only, one_alignment_only)\u001b[0m\n\u001b[1;32m    537\u001b[0m     score) or just the optimal score.\n\u001b[1;32m    538\u001b[0m     \"\"\"\n\u001b[0;32m--> 539\u001b[0;31m     \u001b[0;32mif\u001b[0m \u001b[0;32mnot\u001b[0m \u001b[0msequenceA\u001b[0m \u001b[0;32mor\u001b[0m \u001b[0;32mnot\u001b[0m \u001b[0msequenceB\u001b[0m\u001b[0;34m:\u001b[0m\u001b[0;34m\u001b[0m\u001b[0;34m\u001b[0m\u001b[0m\n\u001b[0m\u001b[1;32m    540\u001b[0m         \u001b[0;32mreturn\u001b[0m \u001b[0;34m[\u001b[0m\u001b[0;34m]\u001b[0m\u001b[0;34m\u001b[0m\u001b[0;34m\u001b[0m\u001b[0m\n\u001b[1;32m    541\u001b[0m     \u001b[0;32mtry\u001b[0m\u001b[0;34m:\u001b[0m\u001b[0;34m\u001b[0m\u001b[0;34m\u001b[0m\u001b[0m\n",
            "\u001b[0;31mValueError\u001b[0m: The truth value of an array with more than one element is ambiguous. Use a.any() or a.all()"
          ]
        }
      ]
    },
    {
      "cell_type": "code",
      "source": [
        "from Bio import SeqIO"
      ],
      "metadata": {
        "id": "qcd0QH8m0yyc"
      },
      "execution_count": 24,
      "outputs": []
    },
    {
      "cell_type": "code",
      "source": [
        "from Bio.Align.Applications.   .Align.Applications.MuscleCommandline as msc"
      ],
      "metadata": {
        "colab": {
          "base_uri": "https://localhost:8080/"
        },
        "id": "FUfVlH0A3fnR",
        "outputId": "fc7a765d-7b46-4a46-b926-9c7605135ea9"
      },
      "execution_count": 33,
      "outputs": [
        {
          "output_type": "stream",
          "name": "stdout",
          "text": [
            "\u001b[31mERROR: Could not find a version that satisfies the requirement Bio.Align.Applications.MuscleCommandline (from versions: none)\u001b[0m\u001b[31m\n",
            "\u001b[0m\u001b[31mERROR: No matching distribution found for Bio.Align.Applications.MuscleCommandline\u001b[0m\u001b[31m\n",
            "\u001b[0m"
          ]
        }
      ]
    },
    {
      "cell_type": "code",
      "source": [
        "pip install muscle"
      ],
      "metadata": {
        "colab": {
          "base_uri": "https://localhost:8080/"
        },
        "id": "5hGRe4415Mpw",
        "outputId": "b919a6d8-4e0d-44e1-e233-7b9115e543ee"
      },
      "execution_count": 35,
      "outputs": [
        {
          "output_type": "stream",
          "name": "stdout",
          "text": [
            "Collecting muscle\n",
            "  Downloading muscle-0.0.4-py3-none-any.whl (3.8 kB)\n",
            "Installing collected packages: muscle\n",
            "Successfully installed muscle-0.0.4\n"
          ]
        }
      ]
    },
    {
      "cell_type": "code",
      "source": [
        "import os\n",
        "os.environ['PATH'] += ':/path/to/muscle/executable'"
      ],
      "metadata": {
        "id": "UVQVtA0-5TcS"
      },
      "execution_count": 36,
      "outputs": []
    },
    {
      "cell_type": "code",
      "source": [
        "muscle_cline = MuscleCommandline(\"muscle3.8.31_i86linux64\", input=tmp.name)"
      ],
      "metadata": {
        "id": "aJXtrx4Q5XjF"
      },
      "execution_count": 37,
      "outputs": []
    },
    {
      "cell_type": "code",
      "source": [
        "from Bio.Seq import Seq\n",
        "from Bio.SeqRecord import SeqRecord\n",
        "from Bio.Align import MultipleSeqAlignment\n",
        "from Bio.Align.Applications import MuscleCommandline\n",
        "import os\n",
        "\n",
        "# Define the sequences\n",
        "seq1 = SeqRecord(Seq(\"ATCGATCG\"), id=\"Seq1\")\n",
        "seq2 = SeqRecord(Seq(\"ATCGATAG\"), id=\"Seq2\")\n",
        "seq3 = SeqRecord(Seq(\"ATCGATCA\"), id=\"Seq3\")\n",
        "\n",
        "# Create a list of sequences\n",
        "sequences = [seq1, seq2, seq3]\n",
        "\n",
        "# Write the sequences to a temporary file\n",
        "from tempfile import NamedTemporaryFile\n",
        "with NamedTemporaryFile(mode='w', delete=False) as tmp:\n",
        "    for seq in sequences:\n",
        "        SeqIO.write(seq, tmp, \"fasta\")\n",
        "    tmp.close()\n",
        "    print(\"Temporary file:\", tmp.name)\n",
        "\n",
        "# Run Muscle to align the sequences\n",
        "# muscle_cline = MuscleCommandline(\"muscle3.8.31_i86win32.exe\", input=tmp.name)\n",
        "print(\"Muscle command:\", muscle_cline)\n",
        "# stdout, stderr = muscle_cline()\n",
        "# stdout, stderr = muscle_cline()\n",
        "\n",
        "# Check if the output file exists\n",
        "output_file = tmp.name + \".aln\"\n",
        "if not os.path.exists(output_file):\n",
        "    print(\"Error: Output file does not exist:\", output_file)\n",
        "else:\n",
        "    print(\"Output file exists:\", output_file)\n",
        "\n",
        "# Read the alignment from the output file\n",
        "align = MultipleSeqAlignment([])\n",
        "with open(output_file, \"r\") as f:\n",
        "    for record in SeqIO.parse(f, \"fasta\"):\n",
        "        align.append(record)\n",
        "\n",
        "# Print the alignment\n",
        "print(align)"
      ],
      "metadata": {
        "colab": {
          "base_uri": "https://localhost:8080/",
          "height": 269
        },
        "id": "waDklUH00qH-",
        "outputId": "64006f94-b3c1-4b65-9732-f378a4425b1b"
      },
      "execution_count": 41,
      "outputs": [
        {
          "output_type": "stream",
          "name": "stdout",
          "text": [
            "Temporary file: /tmp/tmp_g52073k\n",
            "Muscle command: muscle3.8.31_i86win32.exe -in /tmp/tmpv2ghkaqh\n",
            "Error: Output file does not exist: /tmp/tmp_g52073k.aln\n"
          ]
        },
        {
          "output_type": "error",
          "ename": "FileNotFoundError",
          "evalue": "[Errno 2] No such file or directory: '/tmp/tmp_g52073k.aln'",
          "traceback": [
            "\u001b[0;31m---------------------------------------------------------------------------\u001b[0m",
            "\u001b[0;31mFileNotFoundError\u001b[0m                         Traceback (most recent call last)",
            "\u001b[0;32m<ipython-input-41-19e373cfee4e>\u001b[0m in \u001b[0;36m<cell line: 38>\u001b[0;34m()\u001b[0m\n\u001b[1;32m     36\u001b[0m \u001b[0;31m# Read the alignment from the output file\u001b[0m\u001b[0;34m\u001b[0m\u001b[0;34m\u001b[0m\u001b[0m\n\u001b[1;32m     37\u001b[0m \u001b[0malign\u001b[0m \u001b[0;34m=\u001b[0m \u001b[0mMultipleSeqAlignment\u001b[0m\u001b[0;34m(\u001b[0m\u001b[0;34m[\u001b[0m\u001b[0;34m]\u001b[0m\u001b[0;34m)\u001b[0m\u001b[0;34m\u001b[0m\u001b[0;34m\u001b[0m\u001b[0m\n\u001b[0;32m---> 38\u001b[0;31m \u001b[0;32mwith\u001b[0m \u001b[0mopen\u001b[0m\u001b[0;34m(\u001b[0m\u001b[0moutput_file\u001b[0m\u001b[0;34m,\u001b[0m \u001b[0;34m\"r\"\u001b[0m\u001b[0;34m)\u001b[0m \u001b[0;32mas\u001b[0m \u001b[0mf\u001b[0m\u001b[0;34m:\u001b[0m\u001b[0;34m\u001b[0m\u001b[0;34m\u001b[0m\u001b[0m\n\u001b[0m\u001b[1;32m     39\u001b[0m     \u001b[0;32mfor\u001b[0m \u001b[0mrecord\u001b[0m \u001b[0;32min\u001b[0m \u001b[0mSeqIO\u001b[0m\u001b[0;34m.\u001b[0m\u001b[0mparse\u001b[0m\u001b[0;34m(\u001b[0m\u001b[0mf\u001b[0m\u001b[0;34m,\u001b[0m \u001b[0;34m\"fasta\"\u001b[0m\u001b[0;34m)\u001b[0m\u001b[0;34m:\u001b[0m\u001b[0;34m\u001b[0m\u001b[0;34m\u001b[0m\u001b[0m\n\u001b[1;32m     40\u001b[0m         \u001b[0malign\u001b[0m\u001b[0;34m.\u001b[0m\u001b[0mappend\u001b[0m\u001b[0;34m(\u001b[0m\u001b[0mrecord\u001b[0m\u001b[0;34m)\u001b[0m\u001b[0;34m\u001b[0m\u001b[0;34m\u001b[0m\u001b[0m\n",
            "\u001b[0;31mFileNotFoundError\u001b[0m: [Errno 2] No such file or directory: '/tmp/tmp_g52073k.aln'"
          ]
        }
      ]
    },
    {
      "cell_type": "code",
      "source": [
        "from Bio.AlignIO import ClustalIO"
      ],
      "metadata": {
        "id": "thBTame86GeD"
      },
      "execution_count": 47,
      "outputs": []
    },
    {
      "cell_type": "code",
      "source": [
        "pip install Bio"
      ],
      "metadata": {
        "colab": {
          "base_uri": "https://localhost:8080/"
        },
        "id": "vRWCveoLNfzG",
        "outputId": "6a2c0c4b-901b-47aa-d5d9-c3ec2accfa6b"
      },
      "execution_count": 3,
      "outputs": [
        {
          "output_type": "stream",
          "name": "stdout",
          "text": [
            "Collecting Bio\n",
            "  Downloading bio-1.7.1-py3-none-any.whl (280 kB)\n",
            "\u001b[2K     \u001b[90m━━━━━━━━━━━━━━━━━━━━━━━━━━━━━━━━━━━━━━━━\u001b[0m \u001b[32m281.0/281.0 kB\u001b[0m \u001b[31m4.7 MB/s\u001b[0m eta \u001b[36m0:00:00\u001b[0m\n",
            "\u001b[?25hCollecting biopython>=1.80 (from Bio)\n",
            "  Downloading biopython-1.83-cp310-cp310-manylinux_2_17_x86_64.manylinux2014_x86_64.whl (3.1 MB)\n",
            "\u001b[2K     \u001b[90m━━━━━━━━━━━━━━━━━━━━━━━━━━━━━━━━━━━━━━━━\u001b[0m \u001b[32m3.1/3.1 MB\u001b[0m \u001b[31m14.1 MB/s\u001b[0m eta \u001b[36m0:00:00\u001b[0m\n",
            "\u001b[?25hCollecting gprofiler-official (from Bio)\n",
            "  Downloading gprofiler_official-1.0.0-py3-none-any.whl (9.3 kB)\n",
            "Collecting mygene (from Bio)\n",
            "  Downloading mygene-3.2.2-py2.py3-none-any.whl (5.4 kB)\n",
            "Requirement already satisfied: pandas in /usr/local/lib/python3.10/dist-packages (from Bio) (2.0.3)\n",
            "Requirement already satisfied: pooch in /usr/local/lib/python3.10/dist-packages (from Bio) (1.8.1)\n",
            "Requirement already satisfied: requests in /usr/local/lib/python3.10/dist-packages (from Bio) (2.31.0)\n",
            "Requirement already satisfied: tqdm in /usr/local/lib/python3.10/dist-packages (from Bio) (4.66.4)\n",
            "Requirement already satisfied: numpy in /usr/local/lib/python3.10/dist-packages (from biopython>=1.80->Bio) (1.25.2)\n",
            "Collecting biothings-client>=0.2.6 (from mygene->Bio)\n",
            "  Downloading biothings_client-0.3.1-py2.py3-none-any.whl (29 kB)\n",
            "Requirement already satisfied: python-dateutil>=2.8.2 in /usr/local/lib/python3.10/dist-packages (from pandas->Bio) (2.8.2)\n",
            "Requirement already satisfied: pytz>=2020.1 in /usr/local/lib/python3.10/dist-packages (from pandas->Bio) (2023.4)\n",
            "Requirement already satisfied: tzdata>=2022.1 in /usr/local/lib/python3.10/dist-packages (from pandas->Bio) (2024.1)\n",
            "Requirement already satisfied: platformdirs>=2.5.0 in /usr/local/lib/python3.10/dist-packages (from pooch->Bio) (4.2.2)\n",
            "Requirement already satisfied: packaging>=20.0 in /usr/local/lib/python3.10/dist-packages (from pooch->Bio) (24.0)\n",
            "Requirement already satisfied: charset-normalizer<4,>=2 in /usr/local/lib/python3.10/dist-packages (from requests->Bio) (3.3.2)\n",
            "Requirement already satisfied: idna<4,>=2.5 in /usr/local/lib/python3.10/dist-packages (from requests->Bio) (3.7)\n",
            "Requirement already satisfied: urllib3<3,>=1.21.1 in /usr/local/lib/python3.10/dist-packages (from requests->Bio) (2.0.7)\n",
            "Requirement already satisfied: certifi>=2017.4.17 in /usr/local/lib/python3.10/dist-packages (from requests->Bio) (2024.6.2)\n",
            "Requirement already satisfied: six>=1.5 in /usr/local/lib/python3.10/dist-packages (from python-dateutil>=2.8.2->pandas->Bio) (1.16.0)\n",
            "Installing collected packages: biopython, gprofiler-official, biothings-client, mygene, Bio\n",
            "Successfully installed Bio-1.7.1 biopython-1.83 biothings-client-0.3.1 gprofiler-official-1.0.0 mygene-3.2.2\n"
          ]
        }
      ]
    },
    {
      "cell_type": "code",
      "source": [
        "from Bio import Entrez"
      ],
      "metadata": {
        "id": "MhiVWbuQNbLh"
      },
      "execution_count": 4,
      "outputs": []
    },
    {
      "cell_type": "code",
      "source": [
        "seq1=Entrez.efetch(db='nucleotide',id='HZ156108.1',rettype='fasta')\n",
        "seq2=Entrez.efetch(db='nucleotide',id='HZ156109.1',rettype='fasta')\n",
        "seq3=Entrez.efetch(db='nucleotide',id='HZ156110.1',rettype='fasta')"
      ],
      "metadata": {
        "id": "WYL758kdNQke"
      },
      "execution_count": 33,
      "outputs": []
    },
    {
      "cell_type": "code",
      "source": [
        "se1=seq1.read()\n",
        "se2=seq2.read()\n",
        "se3=seq3.read()"
      ],
      "metadata": {
        "id": "JBLYunfgOgRb"
      },
      "execution_count": 34,
      "outputs": []
    },
    {
      "cell_type": "code",
      "source": [
        "pip install clustal"
      ],
      "metadata": {
        "colab": {
          "base_uri": "https://localhost:8080/"
        },
        "id": "gKlxQ7aaQWD-",
        "outputId": "887791d4-b157-4ebf-8a20-b8c2d0903e4c"
      },
      "execution_count": 21,
      "outputs": [
        {
          "output_type": "stream",
          "name": "stdout",
          "text": [
            "\u001b[31mERROR: Could not find a version that satisfies the requirement clustal (from versions: none)\u001b[0m\u001b[31m\n",
            "\u001b[0m\u001b[31mERROR: No matching distribution found for clustal\u001b[0m\u001b[31m\n",
            "\u001b[0m"
          ]
        }
      ]
    },
    {
      "cell_type": "code",
      "source": [
        "from Bio.Seq import Seq\n",
        "from Bio.SeqRecord import SeqRecord\n",
        "from Bio.Align import clustal\n",
        "from Bio.AlignIO import ClustalIO\n",
        "# Bio.Align import multiple_sequence_alignment\n",
        "\n",
        "# Define the sequences\n",
        "seq11 = SeqRecord(Seq(se1), id=\"Seq11\")\n",
        "seq22 = SeqRecord(Seq(se2), id=\"Seq22\")\n",
        "seq33 = SeqRecord(Seq(se3), id=\"Seq33\")\n",
        "\n",
        "# Create a list of sequences\n",
        "# sequ =SeqRecord.seq(seq11,seq22,seq33)\n",
        "sequences = [\n",
        "    SeqRecord(Seq(se1), id=\"Seq11\"),\n",
        "    SeqRecord(Seq(se2), id=\"Seq22\"),\n",
        "    SeqRecord(Seq(se3), id=\"Seq33\"),\n",
        "]\n",
        "# Print the sequences\n",
        "# print(sequences)\n",
        "\n",
        "# Align the sequences\n",
        "align = ClustalIO.MultipleSeqAlignment(sequences)\n",
        "\n",
        "# Print the alignment\n",
        "print(align)"
      ],
      "metadata": {
        "colab": {
          "base_uri": "https://localhost:8080/"
        },
        "id": "m_qOwaxw5zDF",
        "outputId": "8a83e00c-6424-4bfa-8045-22fac1a3fda4"
      },
      "execution_count": 35,
      "outputs": [
        {
          "output_type": "stream",
          "name": "stdout",
          "text": [
            "Alignment with 3 rows and 354 columns\n",
            ">HZ156108.1 JP 2015120714-A/165: Albumin Fus...A\n",
            "\n",
            " Seq11\n",
            ">HZ156109.1 JP 2015120714-A/166: Albumin Fus...A\n",
            "\n",
            " Seq22\n",
            ">HZ156110.1 JP 2015120714-A/167: Albumin Fus...A\n",
            "\n",
            " Seq33\n"
          ]
        }
      ]
    },
    {
      "cell_type": "code",
      "source": [],
      "metadata": {
        "id": "rjv_gkp25KIA"
      },
      "execution_count": null,
      "outputs": []
    },
    {
      "cell_type": "code",
      "source": [
        "pip install pymsaviz"
      ],
      "metadata": {
        "colab": {
          "base_uri": "https://localhost:8080/"
        },
        "id": "T6H3xLS1Z0lf",
        "outputId": "521a868d-90eb-4a36-f64b-240fabdf4506"
      },
      "execution_count": 36,
      "outputs": [
        {
          "output_type": "stream",
          "name": "stdout",
          "text": [
            "Collecting pymsaviz\n",
            "  Downloading pymsaviz-0.4.2-py3-none-any.whl (16 kB)\n",
            "Requirement already satisfied: biopython>=1.79 in /usr/local/lib/python3.10/dist-packages (from pymsaviz) (1.83)\n",
            "Requirement already satisfied: matplotlib>=3.5.2 in /usr/local/lib/python3.10/dist-packages (from pymsaviz) (3.7.1)\n",
            "Requirement already satisfied: numpy in /usr/local/lib/python3.10/dist-packages (from biopython>=1.79->pymsaviz) (1.25.2)\n",
            "Requirement already satisfied: contourpy>=1.0.1 in /usr/local/lib/python3.10/dist-packages (from matplotlib>=3.5.2->pymsaviz) (1.2.1)\n",
            "Requirement already satisfied: cycler>=0.10 in /usr/local/lib/python3.10/dist-packages (from matplotlib>=3.5.2->pymsaviz) (0.12.1)\n",
            "Requirement already satisfied: fonttools>=4.22.0 in /usr/local/lib/python3.10/dist-packages (from matplotlib>=3.5.2->pymsaviz) (4.53.0)\n",
            "Requirement already satisfied: kiwisolver>=1.0.1 in /usr/local/lib/python3.10/dist-packages (from matplotlib>=3.5.2->pymsaviz) (1.4.5)\n",
            "Requirement already satisfied: packaging>=20.0 in /usr/local/lib/python3.10/dist-packages (from matplotlib>=3.5.2->pymsaviz) (24.0)\n",
            "Requirement already satisfied: pillow>=6.2.0 in /usr/local/lib/python3.10/dist-packages (from matplotlib>=3.5.2->pymsaviz) (9.4.0)\n",
            "Requirement already satisfied: pyparsing>=2.3.1 in /usr/local/lib/python3.10/dist-packages (from matplotlib>=3.5.2->pymsaviz) (3.1.2)\n",
            "Requirement already satisfied: python-dateutil>=2.7 in /usr/local/lib/python3.10/dist-packages (from matplotlib>=3.5.2->pymsaviz) (2.8.2)\n",
            "Requirement already satisfied: six>=1.5 in /usr/local/lib/python3.10/dist-packages (from python-dateutil>=2.7->matplotlib>=3.5.2->pymsaviz) (1.16.0)\n",
            "Installing collected packages: pymsaviz\n",
            "Successfully installed pymsaviz-0.4.2\n"
          ]
        }
      ]
    },
    {
      "cell_type": "code",
      "execution_count": 52,
      "metadata": {
        "id": "iiHcyVrDZMIn"
      },
      "outputs": [],
      "source": [
        "from pymsaviz import MsaViz, get_msa_testdata\n",
        "# msa_file = get_msa_testdata(\"HIGD2A.fa\")\n",
        "msa_file = align\n",
        "mv = MsaViz(msa_file, wrap_length=60, show_count=True)\n",
        "ss=mv.savefig(\"api_example01.png\")"
      ]
    },
    {
      "cell_type": "code",
      "source": [
        "msa_file = get_msa_testdata(\"MRGPRG.fa\")\n",
        "mv = MsaViz(msa_file, color_scheme=\"Taylor\", wrap_length=80, show_grid=True, show_consensus=True)\n",
        "mv.savefig(\"api_example02.png\")"
      ],
      "metadata": {
        "id": "yVg20FrPUSoV"
      },
      "execution_count": 50,
      "outputs": []
    },
    {
      "cell_type": "code",
      "source": [
        "msa_file = get_msa_testdata(\"MRGPRG.fa\")\n",
        "mv = MsaViz(msa_file, end=180, wrap_length=60, show_consensus=True)\n",
        "# Example: Extract MSA positions with less than 50% consensus identity\n",
        "# Add markers and text annotations as needed\n",
        "mv.savefig(\"api_example03.png\")"
      ],
      "metadata": {
        "id": "xPLcP5D1UB1t"
      },
      "execution_count": 51,
      "outputs": []
    },
    {
      "cell_type": "code",
      "source": [],
      "metadata": {
        "colab": {
          "base_uri": "https://localhost:8080/",
          "height": 144
        },
        "id": "my2Oc1Z5Tubu",
        "outputId": "c47b4315-7ab7-42db-c794-03026efbd38a"
      },
      "execution_count": 46,
      "outputs": [
        {
          "output_type": "error",
          "ename": "AttributeError",
          "evalue": "'MsaViz' object has no attribute 'get_msa_data'",
          "traceback": [
            "\u001b[0;31m---------------------------------------------------------------------------\u001b[0m",
            "\u001b[0;31mAttributeError\u001b[0m                            Traceback (most recent call last)",
            "\u001b[0;32m<ipython-input-46-865c5c0d9347>\u001b[0m in \u001b[0;36m<cell line: 1>\u001b[0;34m()\u001b[0m\n\u001b[0;32m----> 1\u001b[0;31m \u001b[0mprint\u001b[0m\u001b[0;34m(\u001b[0m\u001b[0mmv\u001b[0m\u001b[0;34m.\u001b[0m\u001b[0mget_msa_data\u001b[0m\u001b[0;34m(\u001b[0m\u001b[0;34m)\u001b[0m\u001b[0;34m)\u001b[0m\u001b[0;34m\u001b[0m\u001b[0;34m\u001b[0m\u001b[0m\n\u001b[0m",
            "\u001b[0;31mAttributeError\u001b[0m: 'MsaViz' object has no attribute 'get_msa_data'"
          ]
        }
      ]
    },
    {
      "cell_type": "code",
      "source": [
        "mv"
      ],
      "metadata": {
        "colab": {
          "base_uri": "https://localhost:8080/",
          "height": 144
        },
        "id": "oZlEibCeTR7V",
        "outputId": "d69025a7-dba9-4305-d950-3e8bac2942cf"
      },
      "execution_count": 40,
      "outputs": [
        {
          "output_type": "error",
          "ename": "AttributeError",
          "evalue": "'MsaViz' object has no attribute 'show'",
          "traceback": [
            "\u001b[0;31m---------------------------------------------------------------------------\u001b[0m",
            "\u001b[0;31mAttributeError\u001b[0m                            Traceback (most recent call last)",
            "\u001b[0;32m<ipython-input-40-6a4fe79075f9>\u001b[0m in \u001b[0;36m<cell line: 1>\u001b[0;34m()\u001b[0m\n\u001b[0;32m----> 1\u001b[0;31m \u001b[0mmv\u001b[0m\u001b[0;34m.\u001b[0m\u001b[0mshow\u001b[0m\u001b[0;34m(\u001b[0m\u001b[0;34m)\u001b[0m\u001b[0;34m\u001b[0m\u001b[0;34m\u001b[0m\u001b[0m\n\u001b[0m",
            "\u001b[0;31mAttributeError\u001b[0m: 'MsaViz' object has no attribute 'show'"
          ]
        }
      ]
    }
  ]
}